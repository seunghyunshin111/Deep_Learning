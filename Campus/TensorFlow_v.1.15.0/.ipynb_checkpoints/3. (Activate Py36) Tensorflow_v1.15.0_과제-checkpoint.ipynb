{
 "cells": [
  {
   "cell_type": "markdown",
   "metadata": {},
   "source": [
    "# 과제"
   ]
  },
  {
   "cell_type": "markdown",
   "metadata": {},
   "source": [
    "### [과제1][본인이름]Tensorflow를 이용한 그래프 생성 및 실행하는 코드를 작성하시오.\n",
    "### 1. 실행코드\n",
    "### 2. 실행화면캡쳐"
   ]
  },
  {
   "cell_type": "markdown",
   "metadata": {},
   "source": [
    "![과제](https://user-images.githubusercontent.com/57430754/76279011-7bebec00-62d0-11ea-83c6-8008ddf2f158.png)"
   ]
  },
  {
   "cell_type": "code",
   "execution_count": 1,
   "metadata": {},
   "outputs": [],
   "source": [
    "import tensorflow as tf\n",
    "\n",
    "node_c = tf.constant(3.0, dtype = tf.float32) \n",
    "node_b = tf.constant(2.0, dtype = tf.float32)\n",
    "node_a = tf.constant(5.0, dtype = tf.float32)"
   ]
  },
  {
   "cell_type": "code",
   "execution_count": 26,
   "metadata": {},
   "outputs": [
    {
     "data": {
      "text/plain": [
       "5.0"
      ]
     },
     "execution_count": 26,
     "metadata": {},
     "output_type": "execute_result"
    }
   ],
   "source": [
    "sess = tf.Session()\n",
    "node_e = tf.add(node_c, node_b)  # 정의는 되고 실행은 아직 안 된 상태\n",
    "sess.run(node_e) "
   ]
  },
  {
   "cell_type": "code",
   "execution_count": 27,
   "metadata": {},
   "outputs": [
    {
     "data": {
      "text/plain": [
       "10.0"
      ]
     },
     "execution_count": 27,
     "metadata": {},
     "output_type": "execute_result"
    }
   ],
   "source": [
    "node_d = tf.multiply(node_b, node_a)\n",
    "sess.run(node_d) "
   ]
  },
  {
   "cell_type": "code",
   "execution_count": 28,
   "metadata": {},
   "outputs": [
    {
     "data": {
      "text/plain": [
       "5.0"
      ]
     },
     "execution_count": 28,
     "metadata": {},
     "output_type": "execute_result"
    }
   ],
   "source": [
    "node_f = tf.subtract(node_d, node_e)\n",
    "node_f\n",
    "sess.run(node_f)"
   ]
  },
  {
   "cell_type": "code",
   "execution_count": 29,
   "metadata": {},
   "outputs": [],
   "source": [
    "sess.close()"
   ]
  },
  {
   "cell_type": "markdown",
   "metadata": {},
   "source": [
    "# 과제 2"
   ]
  },
  {
   "cell_type": "code",
   "execution_count": 2,
   "metadata": {},
   "outputs": [],
   "source": [
    "import tensorflow as tf"
   ]
  },
  {
   "cell_type": "code",
   "execution_count": 9,
   "metadata": {},
   "outputs": [
    {
     "name": "stdout",
     "output_type": "stream",
     "text": [
      "d = 10.0, e = 5.0, f = 5.0\n"
     ]
    }
   ],
   "source": [
    "a = tf.constant(5., name = 'a')\n",
    "b = tf.constant(2., name = 'b')\n",
    "c = tf.constant(3., name = 'c')\n",
    "d = tf.multiply(a, b, name = 'd')\n",
    "e = tf.add(b, c, name = 'e')\n",
    "f = tf.subtract(d, e, name = 'f')\n",
    "\n",
    "sess = tf.Session()\n",
    "\n",
    "print('d = {}, e = {}, f = {}'.format(results[0], results[1], results[2]))\n",
    "sess.close()"
   ]
  }
 ],
 "metadata": {
  "kernelspec": {
   "display_name": "Python 3",
   "language": "python",
   "name": "python3"
  },
  "language_info": {
   "codemirror_mode": {
    "name": "ipython",
    "version": 3
   },
   "file_extension": ".py",
   "mimetype": "text/x-python",
   "name": "python",
   "nbconvert_exporter": "python",
   "pygments_lexer": "ipython3",
   "version": "3.6.10"
  }
 },
 "nbformat": 4,
 "nbformat_minor": 4
}
