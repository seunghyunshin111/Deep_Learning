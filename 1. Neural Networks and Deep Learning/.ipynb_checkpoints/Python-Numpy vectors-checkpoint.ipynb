{
 "cells": [
  {
   "cell_type": "code",
   "execution_count": 1,
   "metadata": {},
   "outputs": [],
   "source": [
    "# Bug 잡기 예시"
   ]
  },
  {
   "cell_type": "code",
   "execution_count": 2,
   "metadata": {},
   "outputs": [],
   "source": [
    "import numpy as np\n",
    "\n",
    "a = np.random.randn(5)"
   ]
  },
  {
   "cell_type": "code",
   "execution_count": 3,
   "metadata": {},
   "outputs": [
    {
     "name": "stdout",
     "output_type": "stream",
     "text": [
      "[ 0.3974003   0.9416118  -0.20406048  0.15038093 -0.07039312]\n"
     ]
    }
   ],
   "source": [
    "print(a)"
   ]
  },
  {
   "cell_type": "code",
   "execution_count": 4,
   "metadata": {},
   "outputs": [
    {
     "name": "stdout",
     "output_type": "stream",
     "text": [
      "(5,)\n"
     ]
    }
   ],
   "source": [
    "print(a.shape)"
   ]
  },
  {
   "cell_type": "code",
   "execution_count": 5,
   "metadata": {},
   "outputs": [
    {
     "name": "stdout",
     "output_type": "stream",
     "text": [
      "[ 0.3974003   0.9416118  -0.20406048  0.15038093 -0.07039312]\n"
     ]
    }
   ],
   "source": [
    "print(a.T)"
   ]
  },
  {
   "cell_type": "code",
   "execution_count": 6,
   "metadata": {},
   "outputs": [
    {
     "name": "stdout",
     "output_type": "stream",
     "text": [
      "1.113770070790124\n"
     ]
    }
   ],
   "source": [
    "print(np.dot(a,a.T))"
   ]
  },
  {
   "cell_type": "markdown",
   "metadata": {},
   "source": [
    "신경망을 코딩하는 경우, 데이터 구조를 사용하는 것이 아니라 a가 5, 1 세로 벡터가 되게끔 하는 것"
   ]
  },
  {
   "cell_type": "code",
   "execution_count": 8,
   "metadata": {},
   "outputs": [
    {
     "name": "stdout",
     "output_type": "stream",
     "text": [
      "[[-0.27817302]\n",
      " [-1.39814041]\n",
      " [-1.23720488]\n",
      " [ 0.23783807]\n",
      " [-1.08491421]]\n"
     ]
    }
   ],
   "source": [
    "a = np.random.randn(5, 1)\n",
    "\n",
    "print(a)"
   ]
  },
  {
   "cell_type": "code",
   "execution_count": 9,
   "metadata": {},
   "outputs": [
    {
     "name": "stdout",
     "output_type": "stream",
     "text": [
      "[[-0.27817302 -1.39814041 -1.23720488  0.23783807 -1.08491421]]\n"
     ]
    }
   ],
   "source": [
    "print(a.T)  # row vector"
   ]
  },
  {
   "cell_type": "markdown",
   "metadata": {},
   "source": [
    "2개의 대괄호"
   ]
  },
  {
   "cell_type": "code",
   "execution_count": 11,
   "metadata": {},
   "outputs": [
    {
     "name": "stdout",
     "output_type": "stream",
     "text": [
      "[[ 0.07738023  0.38892494  0.34415702 -0.06616014  0.30179386]\n",
      " [ 0.38892494  1.9547966   1.72978614 -0.33253102  1.5168624 ]\n",
      " [ 0.34415702  1.72978614  1.53067592 -0.29425443  1.34226116]\n",
      " [-0.06616014 -0.33253102 -0.29425443  0.05656695 -0.25803391]\n",
      " [ 0.30179386  1.5168624   1.34226116 -0.25803391  1.17703885]]\n"
     ]
    }
   ],
   "source": [
    "print(np.dot(a, a.T))"
   ]
  },
  {
   "cell_type": "markdown",
   "metadata": {},
   "source": [
    "Do not use \"rank 1 array\""
   ]
  },
  {
   "cell_type": "markdown",
   "metadata": {},
   "source": [
    "대신 array를 생성할 때마다, <br>\n",
    "## a = np.random.randn(5, 1)<br>\n",
    "이렇게 세로줄 벡터 a.shape = (5, 1)<br>\n",
    "or <br>\n",
    "## a = np.random.randn(1, 5)<br>\n",
    "row vector를 만들 것! a.shape = (1, 5)"
   ]
  },
  {
   "cell_type": "markdown",
   "metadata": {},
   "source": [
    "\"rank 1 array\"는 <br> a = a.reshape((5, 1))로 위의 형태로 바꿀 수 있음"
   ]
  }
 ],
 "metadata": {
  "kernelspec": {
   "display_name": "Python 3",
   "language": "python",
   "name": "python3"
  },
  "language_info": {
   "codemirror_mode": {
    "name": "ipython",
    "version": 3
   },
   "file_extension": ".py",
   "mimetype": "text/x-python",
   "name": "python",
   "nbconvert_exporter": "python",
   "pygments_lexer": "ipython3",
   "version": "3.7.4"
  }
 },
 "nbformat": 4,
 "nbformat_minor": 2
}
